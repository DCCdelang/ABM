{
 "cells": [
  {
   "cell_type": "markdown",
   "metadata": {},
   "source": [
    "This example implements the first model from \"Modeling civil violence: An agent-based computational approach,\" by Joshua Epstein.  The paper (pdf) can be found [here](http://www.uvm.edu/~pdodds/files/papers/others/2002/epstein2002a.pdf).\n",
    "\n",
    "The model consists of two types of agents: \"Citizens\" (called \"Agents\" in the paper) and \"Cops.\"  Agents decide whether or not to rebel by weighing their unhappiness ('grievance') against the risk of rebelling, which they estimate by comparing the local ratio of rebels to cops.  \n",
    "\n",
    "\n"
   ]
  },
  {
   "cell_type": "code",
   "execution_count": 1,
   "metadata": {},
   "outputs": [],
   "source": [
    "import matplotlib.pyplot as plt\n",
    "import importlib\n",
    "%matplotlib inline\n",
    "\n",
    "from epstein_civil_violence.agent import Citizen, Cop\n",
    "from epstein_civil_violence.model import EpsteinCivilViolence\n",
    "# importlib.reload(Citizen)\n",
    "# importlib.reload(Cop)\n",
    "# importlib.reload(EpsteinCivilViolence)\n",
    "# # importlib.reload(epstein_civil_violence.agent)\n",
    "# # importlib.reload(epstein_civil_violence.model)\n",
    "# print(type(Citizen))\n",
    "import time"
   ]
  },
  {
   "cell_type": "code",
   "execution_count": 2,
   "metadata": {},
   "outputs": [
    {
     "name": "stdout",
     "output_type": "stream",
     "text": [
      "Time = 24.033088207244873\n"
     ]
    }
   ],
   "source": [
    "start = time.time()\n",
    "model = EpsteinCivilViolence(height=40, \n",
    "                           width=40, \n",
    "                           citizen_density=.7, \n",
    "                           cop_density=.074, \n",
    "                           citizen_vision=7, \n",
    "                           cop_vision=7, \n",
    "                           legitimacy=.89, \n",
    "                           max_jail_term=50, \n",
    "                           max_iters=1000) # cap the number of steps the model takes\n",
    "model.run_model()\n",
    "\n",
    "finish = time.time()\n",
    "print(\"Time =\",finish-start)"
   ]
  },
  {
   "cell_type": "markdown",
   "metadata": {},
   "source": [
    "The model's data collector counts the number of citizens who are Active (in rebellion), Jailed, or Quiescent after each step."
   ]
  },
  {
   "cell_type": "code",
   "execution_count": 5,
   "metadata": {},
   "outputs": [
    {
     "data": {
      "text/html": [
       "<div>\n",
       "<style scoped>\n",
       "    .dataframe tbody tr th:only-of-type {\n",
       "        vertical-align: middle;\n",
       "    }\n",
       "\n",
       "    .dataframe tbody tr th {\n",
       "        vertical-align: top;\n",
       "    }\n",
       "\n",
       "    .dataframe thead th {\n",
       "        text-align: right;\n",
       "    }\n",
       "</style>\n",
       "<table border=\"1\" class=\"dataframe\">\n",
       "  <thead>\n",
       "    <tr style=\"text-align: right;\">\n",
       "      <th></th>\n",
       "      <th>Quiescent</th>\n",
       "      <th>Active</th>\n",
       "      <th>Jailed</th>\n",
       "      <th>Fighting</th>\n",
       "      <th>Legitimacy</th>\n",
       "    </tr>\n",
       "  </thead>\n",
       "  <tbody>\n",
       "    <tr>\n",
       "      <th>0</th>\n",
       "      <td>1131</td>\n",
       "      <td>0</td>\n",
       "      <td>0</td>\n",
       "      <td>0</td>\n",
       "      <td>0.890000</td>\n",
       "    </tr>\n",
       "    <tr>\n",
       "      <th>1</th>\n",
       "      <td>1049</td>\n",
       "      <td>71</td>\n",
       "      <td>0</td>\n",
       "      <td>9</td>\n",
       "      <td>0.840237</td>\n",
       "    </tr>\n",
       "    <tr>\n",
       "      <th>2</th>\n",
       "      <td>1046</td>\n",
       "      <td>61</td>\n",
       "      <td>0</td>\n",
       "      <td>20</td>\n",
       "      <td>0.838753</td>\n",
       "    </tr>\n",
       "    <tr>\n",
       "      <th>3</th>\n",
       "      <td>1041</td>\n",
       "      <td>56</td>\n",
       "      <td>0</td>\n",
       "      <td>29</td>\n",
       "      <td>0.835534</td>\n",
       "    </tr>\n",
       "    <tr>\n",
       "      <th>4</th>\n",
       "      <td>1041</td>\n",
       "      <td>50</td>\n",
       "      <td>0</td>\n",
       "      <td>33</td>\n",
       "      <td>0.836167</td>\n",
       "    </tr>\n",
       "  </tbody>\n",
       "</table>\n",
       "</div>"
      ],
      "text/plain": [
       "   Quiescent  Active  Jailed  Fighting  Legitimacy\n",
       "0       1131       0       0         0    0.890000\n",
       "1       1049      71       0         9    0.840237\n",
       "2       1046      61       0        20    0.838753\n",
       "3       1041      56       0        29    0.835534\n",
       "4       1041      50       0        33    0.836167"
      ]
     },
     "execution_count": 5,
     "metadata": {},
     "output_type": "execute_result"
    }
   ],
   "source": [
    "model_out = model.datacollector.get_model_vars_dataframe()\n",
    "model_out.head(5)"
   ]
  },
  {
   "cell_type": "code",
   "execution_count": 6,
   "metadata": {},
   "outputs": [
    {
     "data": {
      "image/png": "[encoded data removed]",
      "text/plain": [
       "<Figure size 432x288 with 1 Axes>"
      ]
     },
     "metadata": {
      "needs_background": "light"
     },
     "output_type": "display_data"
    }
   ],
   "source": [
    "ax = model_out[[\"Quiescent\",\"Active\", \"Jailed\", \"Fighting\"]].plot()\n",
    "ax.set_title('Citizen Condition Over Time')\n",
    "ax.set_xlabel('Step')\n",
    "ax.set_ylabel('Number of Citizens')\n",
    "_ = ax.legend(bbox_to_anchor=(1.35, 1.025))"
   ]
  },
  {
   "cell_type": "code",
   "execution_count": 7,
   "metadata": {},
   "outputs": [
    {
     "data": {
      "image/png": "[encoded data removed]",
      "text/plain": [
       "<Figure size 432x288 with 1 Axes>"
      ]
     },
     "metadata": {
      "needs_background": "light"
     },
     "output_type": "display_data"
    }
   ],
   "source": [
    "ax = model_out[[\"Legitimacy\"]].plot()\n",
    "ax.set_title('Legitimacy over Time')\n",
    "ax.set_xlabel('Step')\n",
    "ax.set_ylabel('Number of Citizens')\n",
    "_ = ax.legend(bbox_to_anchor=(1.35, 1.025))"
   ]
  },
  {
   "cell_type": "code",
   "execution_count": 7,
   "metadata": {},
   "outputs": [
    {
     "data": {
      "text/html": [
       "<div>\n",
       "<style scoped>\n",
       "    .dataframe tbody tr th:only-of-type {\n",
       "        vertical-align: middle;\n",
       "    }\n",
       "\n",
       "    .dataframe tbody tr th {\n",
       "        vertical-align: top;\n",
       "    }\n",
       "\n",
       "    .dataframe thead th {\n",
       "        text-align: right;\n",
       "    }\n",
       "</style>\n",
       "<table border=\"1\" class=\"dataframe\">\n",
       "  <thead>\n",
       "    <tr style=\"text-align: right;\">\n",
       "      <th></th>\n",
       "      <th></th>\n",
       "      <th>x</th>\n",
       "      <th>y</th>\n",
       "      <th>breed</th>\n",
       "      <th>jail_sentence</th>\n",
       "      <th>condition</th>\n",
       "      <th>arrest_probability</th>\n",
       "    </tr>\n",
       "    <tr>\n",
       "      <th>Step</th>\n",
       "      <th>AgentID</th>\n",
       "      <th></th>\n",
       "      <th></th>\n",
       "      <th></th>\n",
       "      <th></th>\n",
       "      <th></th>\n",
       "      <th></th>\n",
       "    </tr>\n",
       "  </thead>\n",
       "  <tbody>\n",
       "    <tr>\n",
       "      <th rowspan=\"5\" valign=\"top\">0</th>\n",
       "      <th>0</th>\n",
       "      <td>0</td>\n",
       "      <td>1</td>\n",
       "      <td>citizen</td>\n",
       "      <td>0.0</td>\n",
       "      <td>Quiescent</td>\n",
       "      <td>NaN</td>\n",
       "    </tr>\n",
       "    <tr>\n",
       "      <th>1</th>\n",
       "      <td>0</td>\n",
       "      <td>2</td>\n",
       "      <td>citizen</td>\n",
       "      <td>0.0</td>\n",
       "      <td>Quiescent</td>\n",
       "      <td>NaN</td>\n",
       "    </tr>\n",
       "    <tr>\n",
       "      <th>2</th>\n",
       "      <td>0</td>\n",
       "      <td>3</td>\n",
       "      <td>citizen</td>\n",
       "      <td>0.0</td>\n",
       "      <td>Quiescent</td>\n",
       "      <td>NaN</td>\n",
       "    </tr>\n",
       "    <tr>\n",
       "      <th>3</th>\n",
       "      <td>0</td>\n",
       "      <td>8</td>\n",
       "      <td>cop</td>\n",
       "      <td>NaN</td>\n",
       "      <td>None</td>\n",
       "      <td>NaN</td>\n",
       "    </tr>\n",
       "    <tr>\n",
       "      <th>4</th>\n",
       "      <td>0</td>\n",
       "      <td>9</td>\n",
       "      <td>cop</td>\n",
       "      <td>NaN</td>\n",
       "      <td>None</td>\n",
       "      <td>NaN</td>\n",
       "    </tr>\n",
       "  </tbody>\n",
       "</table>\n",
       "</div>"
      ],
      "text/plain": [
       "              x  y    breed  jail_sentence  condition  arrest_probability\n",
       "Step AgentID                                                             \n",
       "0    0        0  1  citizen            0.0  Quiescent                 NaN\n",
       "     1        0  2  citizen            0.0  Quiescent                 NaN\n",
       "     2        0  3  citizen            0.0  Quiescent                 NaN\n",
       "     3        0  8      cop            NaN       None                 NaN\n",
       "     4        0  9      cop            NaN       None                 NaN"
      ]
     },
     "execution_count": 7,
     "metadata": {},
     "output_type": "execute_result"
    }
   ],
   "source": [
    "agent_out = model.datacollector.get_agent_vars_dataframe()\n",
    "agent_out.head()"
   ]
  },
  {
   "cell_type": "code",
   "execution_count": null,
   "metadata": {},
   "outputs": [],
   "source": []
  },
  {
   "cell_type": "code",
   "execution_count": null,
   "metadata": {},
   "outputs": [],
   "source": []
  }
 ],
 "metadata": {
  "kernelspec": {
   "display_name": "Python 3",
   "language": "python",
   "name": "python3"
  },
  "language_info": {
   "codemirror_mode": {
    "name": "ipython",
    "version": 3
   },
   "file_extension": ".py",
   "mimetype": "text/x-python",
   "name": "python",
   "nbconvert_exporter": "python",
   "pygments_lexer": "ipython3",
   "version": "3.8.5"
  }
 },
 "nbformat": 4,
 "nbformat_minor": 4
}
